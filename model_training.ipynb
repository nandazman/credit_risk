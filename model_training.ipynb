{
 "cells": [
  {
   "cell_type": "code",
   "execution_count": 7,
   "metadata": {},
   "outputs": [],
   "source": [
    "from sklearn.neighbors import KNeighborsClassifier\n",
    "from sklearn.ensemble import RandomForestClassifier\n",
    "from sklearn.linear_model import LogisticRegression\n",
    "from sklearn.model_selection import GridSearchCV\n",
    "from src import utils\n",
    "import numpy as np"
   ]
  },
  {
   "cell_type": "code",
   "execution_count": 2,
   "metadata": {},
   "outputs": [],
   "source": [
    "X_train = utils.deserialize_data(\"data/processed/X_train_ros.pkl\")\n",
    "y_train = utils.deserialize_data(\"data/processed/y_train_ros.pkl\")\n"
   ]
  },
  {
   "cell_type": "code",
   "execution_count": 16,
   "metadata": {},
   "outputs": [],
   "source": [
    "param_grid_knn = {\n",
    "    'n_neighbors': [3, 5, 7],\n",
    "    'weights': ['uniform', 'distance'],\n",
    "    # distance, more distance will have less influence\n",
    "}\n",
    "\n",
    "param_grid_rf = {\n",
    "    'max_depth': [10, 20, 30], # maximum depth of the tree\n",
    "    'min_samples_split': [10, 20, 100],\n",
    "    'min_samples_leaf': [5, 10, 20],\n",
    "    'n_estimators': [50,100,200] # number of trees\n",
    "}\n",
    "\n",
    "param_grid_lr = {\n",
    "    'class_weight': ['balanced', None], # balance proposional, None means one\n",
    "    \"penalty\": [\"l1\", \"l2\"], # regularization\n",
    "    \"solver\": [\"liblinear\"]\n",
    "}"
   ]
  },
  {
   "cell_type": "code",
   "execution_count": 10,
   "metadata": {},
   "outputs": [],
   "source": [
    "knn = KNeighborsClassifier(n_jobs=-1)\n",
    "random_forest = RandomForestClassifier(n_jobs=-1)\n",
    "logistic_regression = LogisticRegression(n_jobs=-1)"
   ]
  },
  {
   "cell_type": "code",
   "execution_count": 11,
   "metadata": {},
   "outputs": [],
   "source": [
    "def train_model(model, param_grid, X_train, y_train):\n",
    "    # >3 : the fold and candidate parameter indexes are also displayed together with the starting time of the computation.\n",
    "    grid_search = GridSearchCV(estimator=model, param_grid=param_grid, n_jobs=-1, verbose=3)\n",
    "    grid_search.fit(X_train, y_train)\n",
    "\n",
    "    return grid_search"
   ]
  },
  {
   "cell_type": "code",
   "execution_count": 13,
   "metadata": {},
   "outputs": [
    {
     "name": "stdout",
     "output_type": "stream",
     "text": [
      "Fitting 5 folds for each of 3 candidates, totalling 15 fits\n"
     ]
    }
   ],
   "source": [
    "class_knn = train_model(model=knn, param_grid=param_grid_knn, X_train=X_train, y_train=y_train)"
   ]
  },
  {
   "cell_type": "code",
   "execution_count": 14,
   "metadata": {},
   "outputs": [
    {
     "name": "stdout",
     "output_type": "stream",
     "text": [
      "Fitting 5 folds for each of 108 candidates, totalling 540 fits\n"
     ]
    }
   ],
   "source": [
    "class_random_forest = train_model(model=random_forest, param_grid=param_grid_rf, X_train=X_train, y_train=y_train)"
   ]
  },
  {
   "cell_type": "code",
   "execution_count": 17,
   "metadata": {},
   "outputs": [
    {
     "name": "stdout",
     "output_type": "stream",
     "text": [
      "Fitting 5 folds for each of 4 candidates, totalling 20 fits\n"
     ]
    },
    {
     "name": "stderr",
     "output_type": "stream",
     "text": [
      "d:\\Users\\nandazman\\anaconda3\\envs\\NANDA_ENV\\Lib\\site-packages\\sklearn\\linear_model\\_logistic.py:1271: UserWarning: 'n_jobs' > 1 does not have any effect when 'solver' is set to 'liblinear'. Got 'n_jobs' = 12.\n",
      "  warnings.warn(\n"
     ]
    }
   ],
   "source": [
    "class_logistic_regression= train_model(model=logistic_regression, param_grid=param_grid_lr, X_train=X_train, y_train=y_train)"
   ]
  },
  {
   "cell_type": "code",
   "execution_count": 18,
   "metadata": {},
   "outputs": [],
   "source": [
    "utils.serialize_data(class_knn, \"models/knn_classifier.pkl\")\n",
    "utils.serialize_data(class_random_forest, \"models/random_forest_classifier.pkl\")\n",
    "utils.serialize_data(class_logistic_regression , \"models/logistic_regression_classifier.pkl\")"
   ]
  }
 ],
 "metadata": {
  "kernelspec": {
   "display_name": "NANDA_ENV",
   "language": "python",
   "name": "python3"
  },
  "language_info": {
   "codemirror_mode": {
    "name": "ipython",
    "version": 3
   },
   "file_extension": ".py",
   "mimetype": "text/x-python",
   "name": "python",
   "nbconvert_exporter": "python",
   "pygments_lexer": "ipython3",
   "version": "3.11.4"
  },
  "orig_nbformat": 4
 },
 "nbformat": 4,
 "nbformat_minor": 2
}
