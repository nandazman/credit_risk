{
 "cells": [
  {
   "cell_type": "code",
   "execution_count": 12,
   "metadata": {},
   "outputs": [
    {
     "name": "stdout",
     "output_type": "stream",
     "text": [
      "Data shape               : (32581, 12)\n",
      "Original data shape: (32581, 12)\n",
      "X data shape: (32581, 11)\n",
      "y data shape: (32581,)\n",
      "X train shape: f(26064, 11)\n",
      "X test shape : f(6517, 11)\n",
      "y train shape: f(26064,)\n",
      "y test shape : f(6517,)\n",
      "\n",
      "X train shape: f(3258, 11)\n",
      "X test shape : f(3259, 11)\n",
      "y train shape: f(3258,)\n",
      "y test shape : f(3259,)\n",
      "\n"
     ]
    }
   ],
   "source": [
    "import sys\n",
    "import os\n",
    "\n",
    "# somehow need to run this first\n",
    "sys.path.append(os.path.join(os.getcwd(), 'src'))\n",
    "\n",
    "from utils import load_data, split_input_output, split_train_test, serialize_data\n",
    "\n",
    "FNAME = './data/raw/credit_risk_dataset.csv'\n",
    "data = load_data(fname=FNAME)\n",
    "\n",
    "TARGET_COL = 'loan_status'\n",
    "X, y = split_input_output(data = data, target_col = TARGET_COL)\n",
    "\n",
    "RANDOMSTATE = 42\n",
    "X_train, X_not_train, y_train, y_not_train = split_train_test(X = X,\n",
    "                                                              y = y,\n",
    "                                                              test_size = 0.2,\n",
    "                                                              random_state = RANDOMSTATE)\n",
    "\n",
    "# Then, split the valid & test\n",
    "X_valid, X_test, y_valid, y_test = split_train_test(X = X_not_train,\n",
    "                                                    y = y_not_train,\n",
    "                                                    test_size = 0.5,\n",
    "                                                    random_state = RANDOMSTATE)\n",
    "\n",
    "serialize_data(X_train, \"./data/interim/X_train.pkl\")\n",
    "serialize_data(y_train, \"./data/interim/y_train.pkl\")\n",
    "serialize_data(X_test, \"./data/interim/X_test.pkl\")\n",
    "serialize_data(y_test, \"./data/interim/y_test.pkl\")\n",
    "serialize_data(X_valid, \"./data/interim/X_valid.pkl\")\n",
    "serialize_data(y_valid, \"./data/interim/y_valid.pkl\")"
   ]
  }
 ],
 "metadata": {
  "kernelspec": {
   "display_name": "NANDA_ENV",
   "language": "python",
   "name": "python3"
  },
  "language_info": {
   "codemirror_mode": {
    "name": "ipython",
    "version": 3
   },
   "file_extension": ".py",
   "mimetype": "text/x-python",
   "name": "python",
   "nbconvert_exporter": "python",
   "pygments_lexer": "ipython3",
   "version": "3.11.4"
  },
  "orig_nbformat": 4
 },
 "nbformat": 4,
 "nbformat_minor": 2
}
